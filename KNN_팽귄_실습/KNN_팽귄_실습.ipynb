{
 "cells": [
  {
   "cell_type": "code",
   "execution_count": 1,
   "metadata": {},
   "outputs": [],
   "source": [
    "import seaborn as sns\n",
    "import numpy as np\n",
    "import matplotlib.pyplot as plt \n",
    "import pandas as pd\n",
    "from sklearn.model_selection import train_test_split\n",
    "from sklearn.neighbors import KNeighborsClassifier"
   ]
  },
  {
   "cell_type": "code",
   "execution_count": 2,
   "metadata": {},
   "outputs": [],
   "source": [
    "# csv 파일 불러오기\n",
    "penguins = sns.load_dataset('penguins')\n",
    "# 비어있는 데이터 지우기\n",
    "penguins.dropna(inplace=True)\n",
    "# 인덱스 번호 다시 정렬\n",
    "penguins.reset_index(drop=True, inplace=True)"
   ]
  },
  {
   "cell_type": "code",
   "execution_count": 3,
   "metadata": {},
   "outputs": [
    {
     "name": "stdout",
     "output_type": "stream",
     "text": [
      "<class 'pandas.core.frame.DataFrame'>\n",
      "RangeIndex: 333 entries, 0 to 332\n",
      "Data columns (total 7 columns):\n",
      " #   Column             Non-Null Count  Dtype  \n",
      "---  ------             --------------  -----  \n",
      " 0   species            333 non-null    object \n",
      " 1   island             333 non-null    object \n",
      " 2   bill_length_mm     333 non-null    float64\n",
      " 3   bill_depth_mm      333 non-null    float64\n",
      " 4   flipper_length_mm  333 non-null    float64\n",
      " 5   body_mass_g        333 non-null    float64\n",
      " 6   sex                333 non-null    object \n",
      "dtypes: float64(4), object(3)\n",
      "memory usage: 18.3+ KB\n"
     ]
    },
    {
     "data": {
      "text/html": [
       "<div>\n",
       "<style scoped>\n",
       "    .dataframe tbody tr th:only-of-type {\n",
       "        vertical-align: middle;\n",
       "    }\n",
       "\n",
       "    .dataframe tbody tr th {\n",
       "        vertical-align: top;\n",
       "    }\n",
       "\n",
       "    .dataframe thead th {\n",
       "        text-align: right;\n",
       "    }\n",
       "</style>\n",
       "<table border=\"1\" class=\"dataframe\">\n",
       "  <thead>\n",
       "    <tr style=\"text-align: right;\">\n",
       "      <th></th>\n",
       "      <th>species</th>\n",
       "      <th>island</th>\n",
       "      <th>bill_length_mm</th>\n",
       "      <th>bill_depth_mm</th>\n",
       "      <th>flipper_length_mm</th>\n",
       "      <th>body_mass_g</th>\n",
       "      <th>sex</th>\n",
       "    </tr>\n",
       "  </thead>\n",
       "  <tbody>\n",
       "    <tr>\n",
       "      <th>0</th>\n",
       "      <td>Adelie</td>\n",
       "      <td>Torgersen</td>\n",
       "      <td>39.1</td>\n",
       "      <td>18.7</td>\n",
       "      <td>181.0</td>\n",
       "      <td>3750.0</td>\n",
       "      <td>Male</td>\n",
       "    </tr>\n",
       "    <tr>\n",
       "      <th>1</th>\n",
       "      <td>Adelie</td>\n",
       "      <td>Torgersen</td>\n",
       "      <td>39.5</td>\n",
       "      <td>17.4</td>\n",
       "      <td>186.0</td>\n",
       "      <td>3800.0</td>\n",
       "      <td>Female</td>\n",
       "    </tr>\n",
       "    <tr>\n",
       "      <th>2</th>\n",
       "      <td>Adelie</td>\n",
       "      <td>Torgersen</td>\n",
       "      <td>40.3</td>\n",
       "      <td>18.0</td>\n",
       "      <td>195.0</td>\n",
       "      <td>3250.0</td>\n",
       "      <td>Female</td>\n",
       "    </tr>\n",
       "    <tr>\n",
       "      <th>3</th>\n",
       "      <td>Adelie</td>\n",
       "      <td>Torgersen</td>\n",
       "      <td>36.7</td>\n",
       "      <td>19.3</td>\n",
       "      <td>193.0</td>\n",
       "      <td>3450.0</td>\n",
       "      <td>Female</td>\n",
       "    </tr>\n",
       "    <tr>\n",
       "      <th>4</th>\n",
       "      <td>Adelie</td>\n",
       "      <td>Torgersen</td>\n",
       "      <td>39.3</td>\n",
       "      <td>20.6</td>\n",
       "      <td>190.0</td>\n",
       "      <td>3650.0</td>\n",
       "      <td>Male</td>\n",
       "    </tr>\n",
       "    <tr>\n",
       "      <th>...</th>\n",
       "      <td>...</td>\n",
       "      <td>...</td>\n",
       "      <td>...</td>\n",
       "      <td>...</td>\n",
       "      <td>...</td>\n",
       "      <td>...</td>\n",
       "      <td>...</td>\n",
       "    </tr>\n",
       "    <tr>\n",
       "      <th>328</th>\n",
       "      <td>Gentoo</td>\n",
       "      <td>Biscoe</td>\n",
       "      <td>47.2</td>\n",
       "      <td>13.7</td>\n",
       "      <td>214.0</td>\n",
       "      <td>4925.0</td>\n",
       "      <td>Female</td>\n",
       "    </tr>\n",
       "    <tr>\n",
       "      <th>329</th>\n",
       "      <td>Gentoo</td>\n",
       "      <td>Biscoe</td>\n",
       "      <td>46.8</td>\n",
       "      <td>14.3</td>\n",
       "      <td>215.0</td>\n",
       "      <td>4850.0</td>\n",
       "      <td>Female</td>\n",
       "    </tr>\n",
       "    <tr>\n",
       "      <th>330</th>\n",
       "      <td>Gentoo</td>\n",
       "      <td>Biscoe</td>\n",
       "      <td>50.4</td>\n",
       "      <td>15.7</td>\n",
       "      <td>222.0</td>\n",
       "      <td>5750.0</td>\n",
       "      <td>Male</td>\n",
       "    </tr>\n",
       "    <tr>\n",
       "      <th>331</th>\n",
       "      <td>Gentoo</td>\n",
       "      <td>Biscoe</td>\n",
       "      <td>45.2</td>\n",
       "      <td>14.8</td>\n",
       "      <td>212.0</td>\n",
       "      <td>5200.0</td>\n",
       "      <td>Female</td>\n",
       "    </tr>\n",
       "    <tr>\n",
       "      <th>332</th>\n",
       "      <td>Gentoo</td>\n",
       "      <td>Biscoe</td>\n",
       "      <td>49.9</td>\n",
       "      <td>16.1</td>\n",
       "      <td>213.0</td>\n",
       "      <td>5400.0</td>\n",
       "      <td>Male</td>\n",
       "    </tr>\n",
       "  </tbody>\n",
       "</table>\n",
       "<p>333 rows × 7 columns</p>\n",
       "</div>"
      ],
      "text/plain": [
       "    species     island  bill_length_mm  bill_depth_mm  flipper_length_mm  \\\n",
       "0    Adelie  Torgersen            39.1           18.7              181.0   \n",
       "1    Adelie  Torgersen            39.5           17.4              186.0   \n",
       "2    Adelie  Torgersen            40.3           18.0              195.0   \n",
       "3    Adelie  Torgersen            36.7           19.3              193.0   \n",
       "4    Adelie  Torgersen            39.3           20.6              190.0   \n",
       "..      ...        ...             ...            ...                ...   \n",
       "328  Gentoo     Biscoe            47.2           13.7              214.0   \n",
       "329  Gentoo     Biscoe            46.8           14.3              215.0   \n",
       "330  Gentoo     Biscoe            50.4           15.7              222.0   \n",
       "331  Gentoo     Biscoe            45.2           14.8              212.0   \n",
       "332  Gentoo     Biscoe            49.9           16.1              213.0   \n",
       "\n",
       "     body_mass_g     sex  \n",
       "0         3750.0    Male  \n",
       "1         3800.0  Female  \n",
       "2         3250.0  Female  \n",
       "3         3450.0  Female  \n",
       "4         3650.0    Male  \n",
       "..           ...     ...  \n",
       "328       4925.0  Female  \n",
       "329       4850.0  Female  \n",
       "330       5750.0    Male  \n",
       "331       5200.0  Female  \n",
       "332       5400.0    Male  \n",
       "\n",
       "[333 rows x 7 columns]"
      ]
     },
     "execution_count": 3,
     "metadata": {},
     "output_type": "execute_result"
    }
   ],
   "source": [
    "penguins.info()\n",
    "penguins"
   ]
  },
  {
   "cell_type": "markdown",
   "metadata": {},
   "source": [
    "# 팽귄의 코(bill)의 정보만 이용해 머신러닝 해보기"
   ]
  },
  {
   "cell_type": "markdown",
   "metadata": {},
   "source": [
    "#### 시각화 해보기"
   ]
  },
  {
   "cell_type": "code",
   "execution_count": 4,
   "metadata": {},
   "outputs": [
    {
     "name": "stdout",
     "output_type": "stream",
     "text": [
      "['Adelie' 'Chinstrap' 'Gentoo']\n"
     ]
    }
   ],
   "source": [
    "# 팽귄의 종류 확인하기\n",
    "print(pd.unique(penguins['species']))"
   ]
  },
  {
   "cell_type": "code",
   "execution_count": 5,
   "metadata": {},
   "outputs": [],
   "source": [
    "# Adelie data 입력\n",
    "Adelie_length = penguins[penguins['species'] == 'Adelie']['bill_length_mm']\n",
    "Adelie_depth = penguins[penguins['species'] == 'Adelie']['bill_depth_mm']\n",
    "\n",
    "# Chinstrap data 입력\n",
    "Chinstrap_length = penguins[penguins['species'] == 'Chinstrap']['bill_length_mm']\n",
    "Chinstrap_depth = penguins[penguins['species'] == 'Chinstrap']['bill_depth_mm']\n",
    "\n",
    "# Gentoo data 입력\n",
    "Gentoo_length = penguins[penguins['species'] == 'Gentoo']['bill_length_mm']\n",
    "Gentoo_depth = penguins[penguins['species'] == 'Gentoo']['bill_depth_mm']"
   ]
  },
  {
   "cell_type": "code",
   "execution_count": 6,
   "metadata": {},
   "outputs": [
    {
     "data": {
      "image/png": "[encoded data removed]",
      "text/plain": [
       "<Figure size 432x288 with 1 Axes>"
      ]
     },
     "metadata": {
      "needs_background": "light"
     },
     "output_type": "display_data"
    }
   ],
   "source": [
    "plt.scatter(Adelie_length, Adelie_depth)\n",
    "plt.scatter(Chinstrap_length, Chinstrap_depth)\n",
    "plt.scatter(Gentoo_length, Gentoo_depth)\n",
    "\n",
    "plt.xlabel('length')\n",
    "plt.ylabel(\"depth\")\n",
    "plt.show()"
   ]
  },
  {
   "cell_type": "markdown",
   "metadata": {},
   "source": [
    "#### 데이터 합치기 "
   ]
  },
  {
   "cell_type": "code",
   "execution_count": 7,
   "metadata": {},
   "outputs": [
    {
     "name": "stdout",
     "output_type": "stream",
     "text": [
      "[[39.1, 18.7], [39.5, 17.4], [40.3, 18.0], [36.7, 19.3], [39.3, 20.6], [38.9, 17.8], [39.2, 19.6], [41.1, 17.6], [38.6, 21.2], [34.6, 21.1], [36.6, 17.8], [38.7, 19.0], [42.5, 20.7], [34.4, 18.4], [46.0, 21.5], [37.8, 18.3], [37.7, 18.7], [35.9, 19.2], [38.2, 18.1], [38.8, 17.2], [35.3, 18.9], [40.6, 18.6], [40.5, 17.9], [37.9, 18.6], [40.5, 18.9], [39.5, 16.7], [37.2, 18.1], [39.5, 17.8], [40.9, 18.9], [36.4, 17.0], [39.2, 21.1], [38.8, 20.0], [42.2, 18.5], [37.6, 19.3], [39.8, 19.1], [36.5, 18.0], [40.8, 18.4], [36.0, 18.5], [44.1, 19.7], [37.0, 16.9], [39.6, 18.8], [41.1, 19.0], [36.0, 17.9], [42.3, 21.2], [39.6, 17.7], [40.1, 18.9], [35.0, 17.9], [42.0, 19.5], [34.5, 18.1], [41.4, 18.6], [39.0, 17.5], [40.6, 18.8], [36.5, 16.6], [37.6, 19.1], [35.7, 16.9], [41.3, 21.1], [37.6, 17.0], [41.1, 18.2], [36.4, 17.1], [41.6, 18.0], [35.5, 16.2], [41.1, 19.1], [35.9, 16.6], [41.8, 19.4], [33.5, 19.0], [39.7, 18.4], [39.6, 17.2], [45.8, 18.9], [35.5, 17.5], [42.8, 18.5], [40.9, 16.8], [37.2, 19.4], [36.2, 16.1], [42.1, 19.1], [34.6, 17.2], [42.9, 17.6], [36.7, 18.8], [35.1, 19.4], [37.3, 17.8], [41.3, 20.3], [36.3, 19.5], [36.9, 18.6], [38.3, 19.2], [38.9, 18.8], [35.7, 18.0], [41.1, 18.1], [34.0, 17.1], [39.6, 18.1], [36.2, 17.3], [40.8, 18.9], [38.1, 18.6], [40.3, 18.5], [33.1, 16.1], [43.2, 18.5], [35.0, 17.9], [41.0, 20.0], [37.7, 16.0], [37.8, 20.0], [37.9, 18.6], [39.7, 18.9], [38.6, 17.2], [38.2, 20.0], [38.1, 17.0], [43.2, 19.0], [38.1, 16.5], [45.6, 20.3], [39.7, 17.7], [42.2, 19.5], [39.6, 20.7], [42.7, 18.3], [38.6, 17.0], [37.3, 20.5], [35.7, 17.0], [41.1, 18.6], [36.2, 17.2], [37.7, 19.8], [40.2, 17.0], [41.4, 18.5], [35.2, 15.9], [40.6, 19.0], [38.8, 17.6], [41.5, 18.3], [39.0, 17.1], [44.1, 18.0], [38.5, 17.9], [43.1, 19.2], [36.8, 18.5], [37.5, 18.5], [38.1, 17.6], [41.1, 17.5], [35.6, 17.5], [40.2, 20.1], [37.0, 16.5], [39.7, 17.9], [40.2, 17.1], [40.6, 17.2], [32.1, 15.5], [40.7, 17.0], [37.3, 16.8], [39.0, 18.7], [39.2, 18.6], [36.6, 18.4], [36.0, 17.8], [37.8, 18.1], [36.0, 17.1], [41.5, 18.5], [46.5, 17.9], [50.0, 19.5], [51.3, 19.2], [45.4, 18.7], [52.7, 19.8], [45.2, 17.8], [46.1, 18.2], [51.3, 18.2], [46.0, 18.9], [51.3, 19.9], [46.6, 17.8], [51.7, 20.3], [47.0, 17.3], [52.0, 18.1], [45.9, 17.1], [50.5, 19.6], [50.3, 20.0], [58.0, 17.8], [46.4, 18.6], [49.2, 18.2], [42.4, 17.3], [48.5, 17.5], [43.2, 16.6], [50.6, 19.4], [46.7, 17.9], [52.0, 19.0], [50.5, 18.4], [49.5, 19.0], [46.4, 17.8], [52.8, 20.0], [40.9, 16.6], [54.2, 20.8], [42.5, 16.7], [51.0, 18.8], [49.7, 18.6], [47.5, 16.8], [47.6, 18.3], [52.0, 20.7], [46.9, 16.6], [53.5, 19.9], [49.0, 19.5], [46.2, 17.5], [50.9, 19.1], [45.5, 17.0], [50.9, 17.9], [50.8, 18.5], [50.1, 17.9], [49.0, 19.6], [51.5, 18.7], [49.8, 17.3], [48.1, 16.4], [51.4, 19.0], [45.7, 17.3], [50.7, 19.7], [42.5, 17.3], [52.2, 18.8], [45.2, 16.6], [49.3, 19.9], [50.2, 18.8], [45.6, 19.4], [51.9, 19.5], [46.8, 16.5], [45.7, 17.0], [55.8, 19.8], [43.5, 18.1], [49.6, 18.2], [50.8, 19.0], [50.2, 18.7], [46.1, 13.2], [50.0, 16.3], [48.7, 14.1], [50.0, 15.2], [47.6, 14.5], [46.5, 13.5], [45.4, 14.6], [46.7, 15.3], [43.3, 13.4], [46.8, 15.4], [40.9, 13.7], [49.0, 16.1], [45.5, 13.7], [48.4, 14.6], [45.8, 14.6], [49.3, 15.7], [42.0, 13.5], [49.2, 15.2], [46.2, 14.5], [48.7, 15.1], [50.2, 14.3], [45.1, 14.5], [46.5, 14.5], [46.3, 15.8], [42.9, 13.1], [46.1, 15.1], [47.8, 15.0], [48.2, 14.3], [50.0, 15.3], [47.3, 15.3], [42.8, 14.2], [45.1, 14.5], [59.6, 17.0], [49.1, 14.8], [48.4, 16.3], [42.6, 13.7], [44.4, 17.3], [44.0, 13.6], [48.7, 15.7], [42.7, 13.7], [49.6, 16.0], [45.3, 13.7], [49.6, 15.0], [50.5, 15.9], [43.6, 13.9], [45.5, 13.9], [50.5, 15.9], [44.9, 13.3], [45.2, 15.8], [46.6, 14.2], [48.5, 14.1], [45.1, 14.4], [50.1, 15.0], [46.5, 14.4], [45.0, 15.4], [43.8, 13.9], [45.5, 15.0], [43.2, 14.5], [50.4, 15.3], [45.3, 13.8], [46.2, 14.9], [45.7, 13.9], [54.3, 15.7], [45.8, 14.2], [49.8, 16.8], [49.5, 16.2], [43.5, 14.2], [50.7, 15.0], [47.7, 15.0], [46.4, 15.6], [48.2, 15.6], [46.5, 14.8], [46.4, 15.0], [48.6, 16.0], [47.5, 14.2], [51.1, 16.3], [45.2, 13.8], [45.2, 16.4], [49.1, 14.5], [52.5, 15.6], [47.4, 14.6], [50.0, 15.9], [44.9, 13.8], [50.8, 17.3], [43.4, 14.4], [51.3, 14.2], [47.5, 14.0], [52.1, 17.0], [47.5, 15.0], [52.2, 17.1], [45.5, 14.5], [49.5, 16.1], [44.5, 14.7], [50.8, 15.7], [49.4, 15.8], [46.9, 14.6], [48.4, 14.4], [51.1, 16.5], [48.5, 15.0], [55.9, 17.0], [47.2, 15.5], [49.1, 15.0], [46.8, 16.1], [41.7, 14.7], [53.4, 15.8], [43.3, 14.0], [48.1, 15.1], [50.5, 15.2], [49.8, 15.9], [43.5, 15.2], [51.5, 16.3], [46.2, 14.1], [55.1, 16.0], [48.8, 16.2], [47.2, 13.7], [46.8, 14.3], [50.4, 15.7], [45.2, 14.8], [49.9, 16.1]]\n"
     ]
    }
   ],
   "source": [
    "#리스트로 만들기\n",
    "Adelie_length = list(Adelie_length)\n",
    "Chinstrap_length = list(Chinstrap_length)\n",
    "Gentoo_length = list(Gentoo_length)\n",
    "Adelie_depth = list(Adelie_depth)\n",
    "Chinstrap_depth = list(Chinstrap_depth)\n",
    "Gentoo_depth = list(Gentoo_depth)\n",
    "\n",
    "length = Adelie_length + Chinstrap_length + Gentoo_length\n",
    "depth = Adelie_depth + Chinstrap_depth + Gentoo_depth\n",
    "\n",
    "penguins_data = [[l, d]for l, d in zip(length, depth)]\n",
    "print(penguins_data)"
   ]
  },
  {
   "cell_type": "code",
   "execution_count": 8,
   "metadata": {},
   "outputs": [],
   "source": [
    "penguins_taget = ['Adelie'] * 146 + ['Chinstrap'] * 68 + ['Gentoo'] * 119"
   ]
  },
  {
   "cell_type": "markdown",
   "metadata": {},
   "source": [
    "### KNN 모델로 학습하기"
   ]
  },
  {
   "cell_type": "code",
   "execution_count": 9,
   "metadata": {},
   "outputs": [
    {
     "data": {
      "text/plain": [
       "0.972972972972973"
      ]
     },
     "execution_count": 9,
     "metadata": {},
     "output_type": "execute_result"
    }
   ],
   "source": [
    "from sklearn.neighbors import KNeighborsClassifier\n",
    "# 모델 인스턴스 생성\n",
    "kn = KNeighborsClassifier()\n",
    "# 학습\n",
    "kn.fit(penguins_data, penguins_taget)\n",
    "# 점수 확인\n",
    "kn.score(penguins_data, penguins_taget)"
   ]
  },
  {
   "cell_type": "markdown",
   "metadata": {},
   "source": [
    "### 다음 그래프에 표시된 마커가 어떤 팽귄인가?"
   ]
  },
  {
   "cell_type": "code",
   "execution_count": 10,
   "metadata": {},
   "outputs": [
    {
     "data": {
      "image/png": "[encoded data removed]",
      "text/plain": [
       "<Figure size 432x288 with 1 Axes>"
      ]
     },
     "metadata": {
      "needs_background": "light"
     },
     "output_type": "display_data"
    }
   ],
   "source": [
    "plt.scatter(Adelie_length, Adelie_depth)\n",
    "plt.scatter(Chinstrap_length, Chinstrap_depth)\n",
    "plt.scatter(Gentoo_length, Gentoo_depth)\n",
    "\n",
    "plt.scatter(55, 18, marker='^')\n",
    "\n",
    "plt.xlabel('length')\n",
    "plt.ylabel(\"depth\")\n",
    "plt.show()"
   ]
  },
  {
   "cell_type": "code",
   "execution_count": 11,
   "metadata": {},
   "outputs": [
    {
     "data": {
      "text/plain": [
       "array(['Gentoo'], dtype='<U9')"
      ]
     },
     "execution_count": 11,
     "metadata": {},
     "output_type": "execute_result"
    }
   ],
   "source": [
    "# 예측해보기\n",
    "kn.predict([[55, 18]])"
   ]
  },
  {
   "cell_type": "markdown",
   "metadata": {},
   "source": [
    "### 비지도 학습"
   ]
  },
  {
   "cell_type": "code",
   "execution_count": 12,
   "metadata": {},
   "outputs": [
    {
     "data": {
      "text/plain": [
       "0.5675675675675675"
      ]
     },
     "execution_count": 12,
     "metadata": {},
     "output_type": "execute_result"
    }
   ],
   "source": [
    "# 데이터 가져오기\n",
    "Adelie_length = list(Adelie_length)\n",
    "Chinstrap_length = list(Chinstrap_length)\n",
    "Gentoo_length = list(Gentoo_length)\n",
    "Adelie_depth = list(Adelie_depth)\n",
    "Chinstrap_depth = list(Chinstrap_depth)\n",
    "Gentoo_depth = list(Gentoo_depth)\n",
    "\n",
    "length = Adelie_length + Chinstrap_length + Gentoo_length\n",
    "depth = Adelie_depth + Chinstrap_depth + Gentoo_depth\n",
    "\n",
    "# 2차원 데이터로 변환 \n",
    "penguins_data = [[l,d] for l,d in zip(length, depth)]\n",
    "penguins_taget = ['Adelie'] * 146 + ['Chinstrap'] * 68 + ['Gentoo'] * 119\n",
    "\n",
    "# KNN 모델 사용\n",
    "from sklearn.neighbors import KNeighborsClassifier\n",
    "kn = KNeighborsClassifier()\n",
    "\n",
    "# 리스트 슬라이싱으로 훈련 데이터, 테스트 데이터 나누기\n",
    "X_train_input = penguins_data[:222]\n",
    "Y_train_target = penguins_taget[:222]\n",
    "\n",
    "X_test_input = penguins_data[222:]\n",
    "Y_test_target = penguins_taget[222:]\n",
    "\n",
    "# 데이터 학습\n",
    "kn.fit(X_train_input, Y_train_target)\n",
    "kn.score(X_test_input, Y_test_target)"
   ]
  },
  {
   "cell_type": "code",
   "execution_count": 13,
   "metadata": {},
   "outputs": [],
   "source": [
    "# 팽귄 데이터로 numpy 배열 생성(input, target)\n",
    "input_arr = np.array(penguins_data)\n",
    "target_arr = np.array(penguins_taget)"
   ]
  },
  {
   "cell_type": "code",
   "execution_count": 14,
   "metadata": {},
   "outputs": [],
   "source": [
    "# 데이터를 섞기 \n",
    "index = np.arange(333)\n",
    "np.random.seed()\n",
    "np.random.shuffle(index)"
   ]
  },
  {
   "cell_type": "code",
   "execution_count": 15,
   "metadata": {},
   "outputs": [],
   "source": [
    "# 넘파이의 배열 인덱싱으로 훈련데이터와 데스트 데이터 나누기\n",
    "X_train_input = input_arr[index[:222]]\n",
    "Y_train_target = target_arr[index[:222]]\n",
    "\n",
    "X_test_input = input_arr[index[222:]]\n",
    "Y_test_target = target_arr[index[222:]]"
   ]
  },
  {
   "cell_type": "code",
   "execution_count": 16,
   "metadata": {},
   "outputs": [
    {
     "data": {
      "image/png": "[encoded data removed]",
      "text/plain": [
       "<Figure size 432x288 with 1 Axes>"
      ]
     },
     "metadata": {
      "needs_background": "light"
     },
     "output_type": "display_data"
    }
   ],
   "source": [
    "plt.scatter(X_train_input[:, 0], X_train_input[:, 1])\n",
    "plt.scatter(X_test_input[:, 0], X_test_input[:, 1])\n",
    "plt.xlabel('length')\n",
    "plt.ylabel(\"depth\")\n",
    "plt.show()"
   ]
  },
  {
   "cell_type": "code",
   "execution_count": 17,
   "metadata": {},
   "outputs": [
    {
     "data": {
      "text/plain": [
       "0.9684684684684685"
      ]
     },
     "execution_count": 17,
     "metadata": {},
     "output_type": "execute_result"
    }
   ],
   "source": [
    "# 모델 생성\n",
    "kn = KNeighborsClassifier()\n",
    "# 학습\n",
    "kn.fit(X_train_input, Y_train_target)\n",
    "# 점수 확인\n",
    "kn.score(X_train_input, Y_train_target)"
   ]
  },
  {
   "cell_type": "code",
   "execution_count": 18,
   "metadata": {},
   "outputs": [
    {
     "data": {
      "text/plain": [
       "array(['Adelie', 'Adelie', 'Gentoo', 'Adelie', 'Chinstrap', 'Gentoo',\n",
       "       'Gentoo', 'Gentoo', 'Gentoo', 'Chinstrap', 'Adelie', 'Chinstrap',\n",
       "       'Gentoo', 'Adelie', 'Gentoo', 'Gentoo', 'Gentoo', 'Gentoo',\n",
       "       'Adelie', 'Adelie', 'Gentoo', 'Gentoo', 'Adelie', 'Adelie',\n",
       "       'Gentoo', 'Gentoo', 'Chinstrap', 'Adelie', 'Adelie', 'Adelie',\n",
       "       'Adelie', 'Adelie', 'Chinstrap', 'Adelie', 'Adelie', 'Gentoo',\n",
       "       'Gentoo', 'Chinstrap', 'Chinstrap', 'Adelie', 'Gentoo', 'Adelie',\n",
       "       'Gentoo', 'Gentoo', 'Gentoo', 'Gentoo', 'Gentoo', 'Adelie',\n",
       "       'Adelie', 'Adelie', 'Gentoo', 'Adelie', 'Adelie', 'Chinstrap',\n",
       "       'Adelie', 'Chinstrap', 'Gentoo', 'Gentoo', 'Gentoo', 'Adelie',\n",
       "       'Chinstrap', 'Adelie', 'Gentoo', 'Chinstrap', 'Gentoo', 'Gentoo',\n",
       "       'Adelie', 'Chinstrap', 'Chinstrap', 'Adelie', 'Chinstrap',\n",
       "       'Adelie', 'Adelie', 'Gentoo', 'Adelie', 'Chinstrap', 'Adelie',\n",
       "       'Gentoo', 'Adelie', 'Gentoo', 'Gentoo', 'Chinstrap', 'Adelie',\n",
       "       'Gentoo', 'Gentoo', 'Adelie', 'Chinstrap', 'Adelie', 'Gentoo',\n",
       "       'Adelie', 'Adelie', 'Gentoo', 'Gentoo', 'Chinstrap', 'Adelie',\n",
       "       'Chinstrap', 'Gentoo', 'Adelie', 'Chinstrap', 'Adelie',\n",
       "       'Chinstrap', 'Gentoo', 'Gentoo', 'Chinstrap', 'Gentoo', 'Adelie',\n",
       "       'Gentoo', 'Adelie', 'Adelie', 'Chinstrap', 'Adelie'], dtype='<U9')"
      ]
     },
     "execution_count": 18,
     "metadata": {},
     "output_type": "execute_result"
    }
   ],
   "source": [
    "# 테스트에 있는 데이터를 예측 해보기\n",
    "y_hat = kn.predict(X_test_input)\n",
    "y_hat"
   ]
  },
  {
   "cell_type": "code",
   "execution_count": 19,
   "metadata": {},
   "outputs": [
    {
     "data": {
      "text/plain": [
       "array([ True,  True,  True,  True, False,  True,  True,  True,  True,\n",
       "        True,  True, False,  True,  True,  True,  True,  True,  True,\n",
       "        True,  True,  True,  True,  True,  True,  True,  True,  True,\n",
       "        True,  True,  True,  True,  True, False,  True,  True,  True,\n",
       "        True,  True,  True,  True,  True,  True, False,  True,  True,\n",
       "        True,  True,  True,  True,  True,  True,  True,  True,  True,\n",
       "        True,  True,  True,  True,  True,  True,  True,  True,  True,\n",
       "        True,  True,  True, False,  True,  True,  True,  True,  True,\n",
       "        True,  True,  True,  True,  True,  True,  True,  True,  True,\n",
       "        True,  True,  True,  True,  True,  True,  True,  True,  True,\n",
       "        True,  True,  True,  True,  True,  True,  True,  True,  True,\n",
       "        True,  True,  True,  True,  True,  True,  True,  True,  True,\n",
       "        True, False,  True])"
      ]
     },
     "execution_count": 19,
     "metadata": {},
     "output_type": "execute_result"
    }
   ],
   "source": [
    "# 예측한 값이 맞는지 정답과 비교하기\n",
    "y_hat == Y_test_target"
   ]
  },
  {
   "cell_type": "markdown",
   "metadata": {},
   "source": [
    "### 브로드캐스팅을 이용하여 점수 결과 확인해보기"
   ]
  },
  {
   "cell_type": "code",
   "execution_count": 20,
   "metadata": {},
   "outputs": [],
   "source": [
    "# 다시 데이터 가져오기\n",
    "\n",
    "length = Adelie_length + Chinstrap_length + Gentoo_length\n",
    "depth = Adelie_depth + Chinstrap_depth + Gentoo_depth\n",
    "\n",
    "# 다시 정답 데이터 가져오기\n",
    "penguins_taget = ['Adelie'] * 146 + ['Chinstrap'] * 68 + ['Gentoo'] * 119"
   ]
  },
  {
   "cell_type": "code",
   "execution_count": 21,
   "metadata": {},
   "outputs": [
    {
     "name": "stdout",
     "output_type": "stream",
     "text": [
      "[39.1, 39.5, 40.3, 36.7, 39.3, 38.9, 39.2, 41.1, 38.6, 34.6, 36.6, 38.7, 42.5, 34.4, 46.0, 37.8, 37.7, 35.9, 38.2, 38.8, 35.3, 40.6, 40.5, 37.9, 40.5, 39.5, 37.2, 39.5, 40.9, 36.4, 39.2, 38.8, 42.2, 37.6, 39.8, 36.5, 40.8, 36.0, 44.1, 37.0, 39.6, 41.1, 36.0, 42.3, 39.6, 40.1, 35.0, 42.0, 34.5, 41.4, 39.0, 40.6, 36.5, 37.6, 35.7, 41.3, 37.6, 41.1, 36.4, 41.6, 35.5, 41.1, 35.9, 41.8, 33.5, 39.7, 39.6, 45.8, 35.5, 42.8, 40.9, 37.2, 36.2, 42.1, 34.6, 42.9, 36.7, 35.1, 37.3, 41.3, 36.3, 36.9, 38.3, 38.9, 35.7, 41.1, 34.0, 39.6, 36.2, 40.8, 38.1, 40.3, 33.1, 43.2, 35.0, 41.0, 37.7, 37.8, 37.9, 39.7, 38.6, 38.2, 38.1, 43.2, 38.1, 45.6, 39.7, 42.2, 39.6, 42.7, 38.6, 37.3, 35.7, 41.1, 36.2, 37.7, 40.2, 41.4, 35.2, 40.6, 38.8, 41.5, 39.0, 44.1, 38.5, 43.1, 36.8, 37.5, 38.1, 41.1, 35.6, 40.2, 37.0, 39.7, 40.2, 40.6, 32.1, 40.7, 37.3, 39.0, 39.2, 36.6, 36.0, 37.8, 36.0, 41.5, 46.5, 50.0, 51.3, 45.4, 52.7, 45.2, 46.1, 51.3, 46.0, 51.3, 46.6, 51.7, 47.0, 52.0, 45.9, 50.5, 50.3, 58.0, 46.4, 49.2, 42.4, 48.5, 43.2, 50.6, 46.7, 52.0, 50.5, 49.5, 46.4, 52.8, 40.9, 54.2, 42.5, 51.0, 49.7, 47.5, 47.6, 52.0, 46.9, 53.5, 49.0, 46.2, 50.9, 45.5, 50.9, 50.8, 50.1, 49.0, 51.5, 49.8, 48.1, 51.4, 45.7, 50.7, 42.5, 52.2, 45.2, 49.3, 50.2, 45.6, 51.9, 46.8, 45.7, 55.8, 43.5, 49.6, 50.8, 50.2, 46.1, 50.0, 48.7, 50.0, 47.6, 46.5, 45.4, 46.7, 43.3, 46.8, 40.9, 49.0, 45.5, 48.4, 45.8, 49.3, 42.0, 49.2, 46.2, 48.7, 50.2, 45.1, 46.5, 46.3, 42.9, 46.1, 47.8, 48.2, 50.0, 47.3, 42.8, 45.1, 59.6, 49.1, 48.4, 42.6, 44.4, 44.0, 48.7, 42.7, 49.6, 45.3, 49.6, 50.5, 43.6, 45.5, 50.5, 44.9, 45.2, 46.6, 48.5, 45.1, 50.1, 46.5, 45.0, 43.8, 45.5, 43.2, 50.4, 45.3, 46.2, 45.7, 54.3, 45.8, 49.8, 49.5, 43.5, 50.7, 47.7, 46.4, 48.2, 46.5, 46.4, 48.6, 47.5, 51.1, 45.2, 45.2, 49.1, 52.5, 47.4, 50.0, 44.9, 50.8, 43.4, 51.3, 47.5, 52.1, 47.5, 52.2, 45.5, 49.5, 44.5, 50.8, 49.4, 46.9, 48.4, 51.1, 48.5, 55.9, 47.2, 49.1, 46.8, 41.7, 53.4, 43.3, 48.1, 50.5, 49.8, 43.5, 51.5, 46.2, 55.1, 48.8, 47.2, 46.8, 50.4, 45.2, 49.9]\n",
      "[18.7, 17.4, 18.0, 19.3, 20.6, 17.8, 19.6, 17.6, 21.2, 21.1, 17.8, 19.0, 20.7, 18.4, 21.5, 18.3, 18.7, 19.2, 18.1, 17.2, 18.9, 18.6, 17.9, 18.6, 18.9, 16.7, 18.1, 17.8, 18.9, 17.0, 21.1, 20.0, 18.5, 19.3, 19.1, 18.0, 18.4, 18.5, 19.7, 16.9, 18.8, 19.0, 17.9, 21.2, 17.7, 18.9, 17.9, 19.5, 18.1, 18.6, 17.5, 18.8, 16.6, 19.1, 16.9, 21.1, 17.0, 18.2, 17.1, 18.0, 16.2, 19.1, 16.6, 19.4, 19.0, 18.4, 17.2, 18.9, 17.5, 18.5, 16.8, 19.4, 16.1, 19.1, 17.2, 17.6, 18.8, 19.4, 17.8, 20.3, 19.5, 18.6, 19.2, 18.8, 18.0, 18.1, 17.1, 18.1, 17.3, 18.9, 18.6, 18.5, 16.1, 18.5, 17.9, 20.0, 16.0, 20.0, 18.6, 18.9, 17.2, 20.0, 17.0, 19.0, 16.5, 20.3, 17.7, 19.5, 20.7, 18.3, 17.0, 20.5, 17.0, 18.6, 17.2, 19.8, 17.0, 18.5, 15.9, 19.0, 17.6, 18.3, 17.1, 18.0, 17.9, 19.2, 18.5, 18.5, 17.6, 17.5, 17.5, 20.1, 16.5, 17.9, 17.1, 17.2, 15.5, 17.0, 16.8, 18.7, 18.6, 18.4, 17.8, 18.1, 17.1, 18.5, 17.9, 19.5, 19.2, 18.7, 19.8, 17.8, 18.2, 18.2, 18.9, 19.9, 17.8, 20.3, 17.3, 18.1, 17.1, 19.6, 20.0, 17.8, 18.6, 18.2, 17.3, 17.5, 16.6, 19.4, 17.9, 19.0, 18.4, 19.0, 17.8, 20.0, 16.6, 20.8, 16.7, 18.8, 18.6, 16.8, 18.3, 20.7, 16.6, 19.9, 19.5, 17.5, 19.1, 17.0, 17.9, 18.5, 17.9, 19.6, 18.7, 17.3, 16.4, 19.0, 17.3, 19.7, 17.3, 18.8, 16.6, 19.9, 18.8, 19.4, 19.5, 16.5, 17.0, 19.8, 18.1, 18.2, 19.0, 18.7, 13.2, 16.3, 14.1, 15.2, 14.5, 13.5, 14.6, 15.3, 13.4, 15.4, 13.7, 16.1, 13.7, 14.6, 14.6, 15.7, 13.5, 15.2, 14.5, 15.1, 14.3, 14.5, 14.5, 15.8, 13.1, 15.1, 15.0, 14.3, 15.3, 15.3, 14.2, 14.5, 17.0, 14.8, 16.3, 13.7, 17.3, 13.6, 15.7, 13.7, 16.0, 13.7, 15.0, 15.9, 13.9, 13.9, 15.9, 13.3, 15.8, 14.2, 14.1, 14.4, 15.0, 14.4, 15.4, 13.9, 15.0, 14.5, 15.3, 13.8, 14.9, 13.9, 15.7, 14.2, 16.8, 16.2, 14.2, 15.0, 15.0, 15.6, 15.6, 14.8, 15.0, 16.0, 14.2, 16.3, 13.8, 16.4, 14.5, 15.6, 14.6, 15.9, 13.8, 17.3, 14.4, 14.2, 14.0, 17.0, 15.0, 17.1, 14.5, 16.1, 14.7, 15.7, 15.8, 14.6, 14.4, 16.5, 15.0, 17.0, 15.5, 15.0, 16.1, 14.7, 15.8, 14.0, 15.1, 15.2, 15.9, 15.2, 16.3, 14.1, 16.0, 16.2, 13.7, 14.3, 15.7, 14.8, 16.1]\n"
     ]
    }
   ],
   "source": [
    "print(length)\n",
    "print(depth)"
   ]
  },
  {
   "cell_type": "code",
   "execution_count": 22,
   "metadata": {},
   "outputs": [],
   "source": [
    "# 타켓 데이터 확인\n",
    "#penguins_taget"
   ]
  },
  {
   "cell_type": "code",
   "execution_count": 23,
   "metadata": {},
   "outputs": [
    {
     "data": {
      "text/plain": [
       "array([[39.1, 18.7],\n",
       "       [39.5, 17.4],\n",
       "       [40.3, 18. ]])"
      ]
     },
     "execution_count": 23,
     "metadata": {},
     "output_type": "execute_result"
    }
   ],
   "source": [
    "# 길이 데이터와 높이 데이터를 합침\n",
    "penguins_data = np.column_stack((length, depth))\n",
    "penguins_data[:3]"
   ]
  },
  {
   "cell_type": "code",
   "execution_count": 24,
   "metadata": {},
   "outputs": [],
   "source": [
    "# stratify=fish_target 옵션을 추가하여 train_test_split함수로 데이터셋 분할하기\n",
    "# 데이터셋 분할하기\n",
    "X_train, X_test, y_train, y_test = \\\n",
    "    train_test_split(penguins_data, penguins_taget, random_state=42, stratify=penguins_taget)"
   ]
  },
  {
   "cell_type": "code",
   "execution_count": 25,
   "metadata": {},
   "outputs": [
    {
     "data": {
      "text/plain": [
       "0.9761904761904762"
      ]
     },
     "execution_count": 25,
     "metadata": {},
     "output_type": "execute_result"
    }
   ],
   "source": [
    "# KNeighborsClassifier 객체 생성\n",
    "model = KNeighborsClassifier()\n",
    "\n",
    "# 학습하기\n",
    "model.fit(X_train, y_train)\n",
    "\n",
    "# 모델 정확도 평가 점수 확인\n",
    "model.score(X_test, y_test)"
   ]
  },
  {
   "cell_type": "code",
   "execution_count": 26,
   "metadata": {},
   "outputs": [
    {
     "data": {
      "text/plain": [
       "array(['Gentoo'], dtype='<U9')"
      ]
     },
     "execution_count": 26,
     "metadata": {},
     "output_type": "execute_result"
    }
   ],
   "source": [
    "# 여전히 Gentoo 인 것을 확인 할 수 있음\n",
    "kn.predict([[55, 18]])"
   ]
  },
  {
   "cell_type": "code",
   "execution_count": 27,
   "metadata": {},
   "outputs": [
    {
     "name": "stdout",
     "output_type": "stream",
     "text": [
      "[[1.3453624  1.96977156 2.00249844 2.40416306 2.42074369]]\n",
      "[[ 96  33  30 200  11]]\n"
     ]
    }
   ],
   "source": [
    "# [55, 18]의 이웃 개수 확인\n",
    "distances, indexes = model.kneighbors([[55, 18]])\n",
    "print(distances)\n",
    "print(indexes)"
   ]
  },
  {
   "cell_type": "code",
   "execution_count": 28,
   "metadata": {},
   "outputs": [
    {
     "data": {
      "image/png": "[encoded data removed]",
      "text/plain": [
       "<Figure size 432x288 with 1 Axes>"
      ]
     },
     "metadata": {
      "needs_background": "light"
     },
     "output_type": "display_data"
    }
   ],
   "source": [
    "# 시각화 하여 확인\n",
    "import matplotlib.pyplot as plt\n",
    "plt.scatter(X_train[:,0], X_train[:,1])\n",
    "plt.scatter(X_train[indexes,0], X_train[indexes,1], marker='D')\n",
    "plt.scatter(55, 18, marker='^')\n",
    "plt.xlabel('length')\n",
    "plt.ylabel('depth')\n",
    "plt.show()"
   ]
  },
  {
   "cell_type": "code",
   "execution_count": 29,
   "metadata": {},
   "outputs": [
    {
     "data": {
      "text/plain": [
       "array(['Gentoo'], dtype='<U9')"
      ]
     },
     "execution_count": 29,
     "metadata": {},
     "output_type": "execute_result"
    }
   ],
   "source": [
    "kn.predict([[55, 18]])"
   ]
  },
  {
   "cell_type": "markdown",
   "metadata": {},
   "source": [
    "- #### 결과 값을 보면 Gentoo라고 뜨지만 위쪽에 해당하는 팽귄인지 아래쪽에 해당하는 팽귄인지는 정확하지 않다. \n",
    "- #### 따라서 브로드캐스팅으로 범위를 줄인다."
   ]
  },
  {
   "cell_type": "code",
   "execution_count": 31,
   "metadata": {},
   "outputs": [
    {
     "name": "stdout",
     "output_type": "stream",
     "text": [
      "[[ 1.26884494  0.7935353 ]\n",
      " [-0.75781873  0.94556682]\n",
      " [ 1.28694015 -0.37203963]\n",
      " [-0.92067563  0.7935353 ]\n",
      " [ 2.53550974  0.28676359]\n",
      " [ 0.36408437  0.84421247]\n",
      " [-1.4997224   0.38811793]\n",
      " [-1.15591338  1.04692116]\n",
      " [-0.97496127 -0.01729944]\n",
      " [-1.21019902  0.28676359]\n",
      " [-0.68543789 -0.06797661]\n",
      " [ 1.72122523  1.35098419]\n",
      " [ 1.08789283  1.1482755 ]\n",
      " [-1.11972296  0.54014945]\n",
      " [-0.92067563  0.28676359]\n",
      " [ 0.27360832 -1.68964609]\n",
      " [-0.10639112 -1.43626023]\n",
      " [ 0.50884606 -0.92948852]\n",
      " [-0.26924802 -0.27068529]\n",
      " [ 0.50884606 -0.57474832]\n",
      " [ 0.45456043 -1.89235477]\n",
      " [-0.26924802  1.75640156]\n",
      " [-0.41400972 -1.28422872]\n",
      " [ 0.21932268 -0.72677983]\n",
      " [-0.25115281 -1.79100043]\n",
      " [ 0.94313114 -1.03084286]\n",
      " [-1.37305592 -0.11865378]\n",
      " [ 1.48598748  0.7935353 ]\n",
      " [-1.31877028  0.7935353 ]\n",
      " [-0.61305704 -0.01729944]\n",
      " [ 2.01074861 -0.62542549]\n",
      " [-0.30543845  2.00978741]\n",
      " [-0.61305704  0.89488965]\n",
      " [ 2.13741509  1.30030702]\n",
      " [-0.46829535  0.64150379]\n",
      " [ 0.87075029 -0.52407115]\n",
      " [ 1.01551198 -0.62542549]\n",
      " [ 1.0517024  -0.67610266]\n",
      " [-1.35496071  0.38811793]\n",
      " [-1.15591338 -0.11865378]\n",
      " [ 1.359321   -0.47339398]\n",
      " [-0.84829479  1.70572438]\n",
      " [ 0.49075085  0.33744076]\n",
      " [ 1.03360719  0.69218096]\n",
      " [ 1.10598804  0.33744076]\n",
      " [-0.88448521  0.74285813]\n",
      " [ 1.32313058  1.35098419]\n",
      " [-1.15591338  0.94556682]\n",
      " [-0.61305704  0.7935353 ]\n",
      " [-0.97496127  2.00978741]\n",
      " [-1.46353197 -0.32136246]\n",
      " [-0.81210437  0.28676359]\n",
      " [-0.79400915  1.75640156]\n",
      " [ 0.23741789 -1.74032326]\n",
      " [ 1.0517024  -0.22000812]\n",
      " [ 0.45456043 -1.23355154]\n",
      " [-0.34162887  0.94556682]\n",
      " [-1.60829367  1.09759833]\n",
      " [ 0.27360832 -1.1321972 ]\n",
      " [ 0.92503593 -1.1321972 ]\n",
      " [ 1.0517024   0.03337774]\n",
      " [-0.08829591 -1.53761457]\n",
      " [ 0.23741789 -1.79100043]\n",
      " [ 0.85265508 -1.08152003]\n",
      " [ 1.23265452  0.03337774]\n",
      " [-1.11972296  1.40166136]\n",
      " [-0.14258154 -1.38558306]\n",
      " [-0.52258098  0.18540925]\n",
      " [ 0.97932156 -0.72677983]\n",
      " [-1.62638888  0.33744076]\n",
      " [ 1.70313001 -0.72677983]\n",
      " [ 0.43646522  0.69218096]\n",
      " [ 0.99741677 -0.52407115]\n",
      " [ 0.27360832 -1.79100043]\n",
      " [ 1.57646353  1.30030702]\n",
      " [ 0.90694071  1.1482755 ]\n",
      " [-0.55877141 -0.22000812]\n",
      " [-1.04734211  0.4387951 ]\n",
      " [ 0.29170353  1.09759833]\n",
      " [ 0.02027536  0.38811793]\n",
      " [ 0.38217958 -1.08152003]\n",
      " [ 1.32313058  0.99624399]\n",
      " [ 0.27360832 -0.11865378]\n",
      " [ 1.12408325  0.7935353 ]\n",
      " [-1.17400859  0.64150379]\n",
      " [ 1.1964641   1.09759833]\n",
      " [ 1.08789283 -1.03084286]\n",
      " [-0.86639     1.19895267]\n",
      " [-0.46829535  0.69218096]\n",
      " [-1.40924634 -0.01729944]\n",
      " [ 0.0926562  -1.28422872]\n",
      " [ 0.38217958  0.48947228]\n",
      " [ 0.63551254 -1.1321972 ]\n",
      " [-1.4997224  -0.16933095]\n",
      " [ 1.12408325 -1.4869374 ]\n",
      " [-0.52258098  0.13473208]\n",
      " [ 2.1555103  -0.11865378]\n",
      " [-0.12448633 -1.63896891]\n",
      " [-0.90258042 -0.06797661]\n",
      " [-1.80734099 -0.06797661]\n",
      " [ 0.92503593 -1.38558306]\n",
      " [-0.97496127 -0.11865378]\n",
      " [ 0.76217902 -1.4869374 ]\n",
      " [-0.2330576  -1.79100043]\n",
      " [-0.57686662  0.59082662]\n",
      " [ 1.44979705  0.4387951 ]\n",
      " [-0.08829591 -1.03084286]\n",
      " [-0.68543789  1.45233853]\n",
      " [ 0.85265508 -0.777457  ]\n",
      " [-1.46353197  0.99624399]\n",
      " [-1.06543732  0.18540925]\n",
      " [ 1.46789227 -0.11865378]\n",
      " [ 1.06979762 -0.57474832]\n",
      " [ 0.99741677  0.89488965]\n",
      " [-0.7035331   0.84421247]\n",
      " [-1.13781817  1.30030702]\n",
      " [-0.79400915 -0.01729944]\n",
      " [-0.95686606  0.89488965]\n",
      " [-0.77591394  0.59082662]\n",
      " [ 0.20122747 -1.43626023]\n",
      " [-0.28734324  0.03337774]\n",
      " [ 0.47265564  0.28676359]\n",
      " [-0.57686662  0.84421247]\n",
      " [ 2.82503312 -0.11865378]\n",
      " [ 0.21932268 -0.32136246]\n",
      " [ 0.4002748  -1.18287437]\n",
      " [-0.86639     1.95911024]\n",
      " [ 1.23265452 -0.777457  ]\n",
      " [-0.55877141 -0.32136246]\n",
      " [-0.90258042  0.13473208]\n",
      " [ 0.90694071 -0.57474832]\n",
      " [-0.19686718 -2.09506345]\n",
      " [ 0.61741733 -1.33490589]\n",
      " [-1.10162775  0.69218096]\n",
      " [-0.79400915  0.23608642]\n",
      " [-0.12448633 -1.94303194]\n",
      " [-0.55877141  0.84421247]\n",
      " [-1.59019845 -0.67610266]\n",
      " [ 0.32789395 -1.53761457]\n",
      " [-0.2330576   0.54014945]\n",
      " [ 0.16503705 -1.99370911]\n",
      " [-0.66734267  0.38811793]\n",
      " [-1.44543676  0.33744076]\n",
      " [-1.62638888  0.33744076]\n",
      " [ 0.68979818 -1.1321972 ]\n",
      " [-1.28257986  0.69218096]\n",
      " [ 0.79836945 -1.33490589]\n",
      " [ 0.29170353  1.55369287]\n",
      " [ 0.49075085 -0.98016569]\n",
      " [-0.59496183 -0.11865378]\n",
      " [-0.54067619  1.40166136]\n",
      " [ 0.45456043 -1.38558306]\n",
      " [ 0.16503705 -1.74032326]\n",
      " [ 0.47265564 -1.53761457]\n",
      " [ 0.50884606 -1.4869374 ]\n",
      " [ 0.94313114  0.48947228]\n",
      " [ 1.359321    0.74285813]\n",
      " [-1.0292469   0.99624399]\n",
      " [-0.0702007  -1.68964609]\n",
      " [-0.81210437 -0.27068529]\n",
      " [ 1.08789283 -0.98016569]\n",
      " [ 0.27360832 -1.38558306]\n",
      " [-0.52258098  0.69218096]\n",
      " [-1.40924634 -0.57474832]\n",
      " [-1.73496014  0.59082662]\n",
      " [ 1.17836888  0.59082662]\n",
      " [ 0.96122635  1.35098419]\n",
      " [-0.08829591  0.4387951 ]\n",
      " [ 0.45456043  0.33744076]\n",
      " [-1.39115113  1.1482755 ]\n",
      " [-0.35972408  1.1482755 ]\n",
      " [-0.48639056  1.95911024]\n",
      " [-1.33686549  0.28676359]\n",
      " [-1.10162775  0.69218096]\n",
      " [ 1.23265452  0.89488965]\n",
      " [-0.52258098  0.4387951 ]\n",
      " [-1.33686549  0.59082662]\n",
      " [ 0.90694071  1.19895267]\n",
      " [ 0.21932268  0.28676359]\n",
      " [-0.63115225  0.84421247]\n",
      " [ 0.79836945 -0.47339398]\n",
      " [-0.14258154  0.64150379]\n",
      " [ 0.92503593 -1.23355154]\n",
      " [-1.53591282  0.13473208]\n",
      " [ 1.17836888 -0.67610266]\n",
      " [-1.21019902  1.65504721]\n",
      " [ 1.32313058  0.48947228]\n",
      " [ 1.08789283 -0.67610266]\n",
      " [ 0.21932268 -0.42271681]\n",
      " [-0.21496239 -1.53761457]\n",
      " [ 1.39551142  1.55369287]\n",
      " [ 1.12408325  0.74285813]\n",
      " [ 1.14217846  1.40166136]\n",
      " [ 1.01551198 -1.1321972 ]\n",
      " [-0.26924802  0.03337774]\n",
      " [-1.44543676 -0.06797661]\n",
      " [ 0.21932268 -1.23355154]\n",
      " [-1.22829423  0.4387951 ]\n",
      " [ 0.30979874  0.03337774]\n",
      " [ 0.2555131  -1.33490589]\n",
      " [ 1.86598692 -0.777457  ]\n",
      " [-1.30067507  0.64150379]\n",
      " [ 0.81646466 -1.1321972 ]\n",
      " [-1.26448465 -0.16933095]\n",
      " [-0.21496239  0.64150379]\n",
      " [-0.93877084  1.40166136]\n",
      " [-0.90258042  0.74285813]\n",
      " [ 1.44979705  0.89488965]\n",
      " [-1.44543676  0.28676359]\n",
      " [ 0.32789395 -1.33490589]\n",
      " [ 1.01551198  0.48947228]\n",
      " [ 0.81646466 -1.58829174]\n",
      " [ 1.44979705  1.75640156]\n",
      " [ 0.83455987 -0.62542549]\n",
      " [ 0.30979874 -1.68964609]\n",
      " [-1.31877028  1.04692116]\n",
      " [ 0.59932212 -0.98016569]\n",
      " [ 0.99741677 -0.57474832]\n",
      " [-1.4997224  -0.11865378]\n",
      " [ 0.32789395  0.84421247]\n",
      " [-1.21019902 -0.22000812]\n",
      " [ 0.50884606 -0.37203963]\n",
      " [-0.99305648  0.33744076]\n",
      " [-0.93877084  0.18540925]\n",
      " [ 1.17836888  1.19895267]\n",
      " [-0.77591394  0.33744076]\n",
      " [ 0.65360775 -1.38558306]\n",
      " [ 0.81646466  0.13473208]\n",
      " [ 0.07456099  0.03337774]\n",
      " [ 1.16027367 -0.777457  ]\n",
      " [-1.53591282 -0.52407115]\n",
      " [-1.06543732 -0.37203963]\n",
      " [ 0.76217902 -0.82813418]\n",
      " [-1.13781817  0.74285813]\n",
      " [-0.93877084 -0.01729944]\n",
      " [ 1.23265452  0.64150379]\n",
      " [-0.79400915  0.7935353 ]\n",
      " [-0.63115225  0.33744076]\n",
      " [ 0.21932268 -1.74032326]\n",
      " [ 1.28694015 -0.47339398]\n",
      " [ 0.20122747 -1.38558306]\n",
      " [ 1.21455931  1.24962984]\n",
      " [-1.04734211  1.40166136]\n",
      " [ 0.02027536  1.24962984]\n",
      " [-1.69876972  1.95911024]\n",
      " [-1.13781817 -0.62542549]\n",
      " [ 0.4002748  -1.58829174]\n",
      " [ 0.85265508 -1.58829174]\n",
      " [-1.89781705  0.89488965]]\n"
     ]
    }
   ],
   "source": [
    "# 표준점수 구하기\n",
    "mean = np.mean(X_train, axis=0) #평균. axis=0은 행을 축으로 함\n",
    "std = np.std(X_train, axis=0) # 표준편차. axis=0은 행을 축으로 함\n",
    "\n",
    "X_train_scaled = (X_train - mean) / std # 넘파이 배열 연산은 모든 행을 대상으로 계산됨\n",
    "print(X_train_scaled)"
   ]
  },
  {
   "cell_type": "code",
   "execution_count": 32,
   "metadata": {},
   "outputs": [
    {
     "data": {
      "text/plain": [
       "array([1.9926534 , 0.38811793])"
      ]
     },
     "execution_count": 32,
     "metadata": {},
     "output_type": "execute_result"
    }
   ],
   "source": [
    "new = ([55, 18] - mean) / std\n",
    "new"
   ]
  },
  {
   "cell_type": "code",
   "execution_count": 33,
   "metadata": {},
   "outputs": [
    {
     "data": {
      "image/png": "[encoded data removed]",
      "text/plain": [
       "<Figure size 432x288 with 1 Axes>"
      ]
     },
     "metadata": {
      "needs_background": "light"
     },
     "output_type": "display_data"
    }
   ],
   "source": [
    "plt.scatter(X_train_scaled[:,0], X_train_scaled[:,1])\n",
    "plt.scatter(new[0], new[1], marker='^')\n",
    "plt.xlabel('length')\n",
    "plt.ylabel('depth')\n",
    "plt.show()"
   ]
  },
  {
   "cell_type": "code",
   "execution_count": 34,
   "metadata": {},
   "outputs": [
    {
     "data": {
      "text/plain": [
       "0.9523809523809523"
      ]
     },
     "execution_count": 34,
     "metadata": {},
     "output_type": "execute_result"
    }
   ],
   "source": [
    "# KNeighborsClassifier 객체 생성\n",
    "model = KNeighborsClassifier()\n",
    "\n",
    "# 학습하기\n",
    "model.fit(X_train_scaled, y_train)\n",
    "\n",
    "# 모델 정확도 평가 점수 확인\n",
    "# 테스트 데이터(test_input)도 훈련데이터로 만든 기준으로 스케일링\n",
    "X_test_scaled = (X_test - mean) / std\n",
    "model.score(X_test_scaled, y_test)"
   ]
  },
  {
   "cell_type": "code",
   "execution_count": 35,
   "metadata": {},
   "outputs": [
    {
     "name": "stdout",
     "output_type": "stream",
     "text": [
      "['Chinstrap']\n"
     ]
    }
   ],
   "source": [
    "print(model.predict([new]))"
   ]
  },
  {
   "cell_type": "code",
   "execution_count": 37,
   "metadata": {},
   "outputs": [
    {
     "data": {
      "image/png": "[encoded data removed]",
      "text/plain": [
       "<Figure size 432x288 with 1 Axes>"
      ]
     },
     "metadata": {
      "needs_background": "light"
     },
     "output_type": "display_data"
    }
   ],
   "source": [
    "# 이웃 정보 확인하기\n",
    "distances, indexes = model.kneighbors([new])\n",
    "plt.scatter(X_train_scaled[:,0], X_train_scaled[:,1])\n",
    "plt.scatter(new[0], new[1], marker='^')\n",
    "plt.scatter(X_train_scaled[indexes,0], X_train_scaled[indexes,1], marker='D')\n",
    "plt.xlabel('length')\n",
    "plt.ylabel('depth')\n",
    "plt.show()"
   ]
  },
  {
   "cell_type": "markdown",
   "metadata": {},
   "source": [
    "### 표준화를 시켜 결과 값이 다른 것을 확인해 볼 수 있다. "
   ]
  },
  {
   "cell_type": "markdown",
   "metadata": {},
   "source": []
  }
 ],
 "metadata": {
  "kernelspec": {
   "display_name": "base",
   "language": "python",
   "name": "python3"
  },
  "language_info": {
   "codemirror_mode": {
    "name": "ipython",
    "version": 3
   },
   "file_extension": ".py",
   "mimetype": "text/x-python",
   "name": "python",
   "nbconvert_exporter": "python",
   "pygments_lexer": "ipython3",
   "version": "3.9.12"
  }
 },
 "nbformat": 4,
 "nbformat_minor": 2
}
